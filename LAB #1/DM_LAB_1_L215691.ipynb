{
  "nbformat": 4,
  "nbformat_minor": 0,
  "metadata": {
    "colab": {
      "private_outputs": true,
      "provenance": []
    },
    "kernelspec": {
      "name": "python3",
      "display_name": "Python 3"
    },
    "language_info": {
      "name": "python"
    }
  },
  "cells": [
    {
      "cell_type": "markdown",
      "source": [
        "**Question #1**\n"
      ],
      "metadata": {
        "id": "xMeur-nU6aSi"
      }
    },
    {
      "cell_type": "markdown",
      "source": [
        "(a) Time in terms of AM or PM.\n",
        "\n",
        "Binary, qualitative, nominal\n",
        "\n",
        "(b) Brightness as measured by a light meter.\n",
        "\n",
        "Continuous, quantitative, ratio\n",
        "\n",
        "(c) Brightness as measured by people’s judgments.\n",
        "\n",
        "Discrete, qualitative, ordinal\n",
        "\n",
        "(d) Angles as measured in degrees between 0◦ and 360◦.\n",
        "\n",
        "Continuous, quantitative, ratio\n",
        "\n",
        "(e) Bronze, Silver, and Gold medals as awarded at the Olympics.\n",
        "\n",
        "Discrete, qualitative, ordinal\n",
        "\n",
        "(f) Height above sea level.\n",
        "\n",
        "Continuous, quantitative, interval/ratio\n",
        "\n",
        "(g) Number of patients in a hospital.\n",
        "\n",
        "Discrete, quantitative, ratio\n",
        "\n",
        "(h) ISBN numbers for books. (Look up the format on the Web.)\n",
        "\n",
        "Discrete, qualitative, nominal\n",
        "\n",
        "(i) Ability to pass light in terms of the following values: opaque, translucent, transparent.\n",
        "\n",
        "Discrete, qualitative, ordinal\n",
        "\n",
        "(j) Military rank.\n",
        "\n",
        "Discrete, qualitative, ordinal\n",
        "\n",
        "(k) Distance from the center of campus.\n",
        "\n",
        "Continuous, quantitative, interval/ratio\n",
        "\n",
        "(l) Density of a substance in grams per cubic centimeter.\n",
        "\n",
        "Continuous, quantitative, ratio\n",
        "\n",
        "(m) Coat check number. (When you attend an event, you can often give your coat to someone who, in turn, gives you a number that you can use to claim your coat when you leave.)\n",
        "\n",
        "Discrete, qualitative, nominal"
      ],
      "metadata": {
        "id": "xjt8hEng6qpt"
      }
    },
    {
      "cell_type": "markdown",
      "source": [
        "**Question #2**"
      ],
      "metadata": {
        "id": "-_G_948V6aR-"
      }
    },
    {
      "cell_type": "code",
      "execution_count": null,
      "metadata": {
        "id": "GqrtS8XAzrLd"
      },
      "outputs": [],
      "source": [
        "import pandas as pd\n",
        "import seaborn as sb\n",
        "import matplotlib.pyplot as plt"
      ]
    },
    {
      "cell_type": "code",
      "source": [
        "df=pd.read_csv('Iris.csv')"
      ],
      "metadata": {
        "id": "5gxYzSpW1UdI"
      },
      "execution_count": null,
      "outputs": []
    },
    {
      "cell_type": "code",
      "source": [
        "df\n",
        "#species is the dependent attribute"
      ],
      "metadata": {
        "id": "TWW-9SGk1ctw"
      },
      "execution_count": null,
      "outputs": []
    },
    {
      "cell_type": "code",
      "source": [
        "print(df['SepalLengthCm'].shape)\n",
        "print(df['SepalWidthCm'].shape)\n",
        "print(df['PetalLengthCm'].shape)\n",
        "print(df['PetalWidthCm'].shape)\n",
        "print(df['Species'].shape)"
      ],
      "metadata": {
        "id": "S1LxqpFD1t9n"
      },
      "execution_count": null,
      "outputs": []
    },
    {
      "cell_type": "code",
      "source": [
        "df.isnull().count()\n",
        "#no NULLS"
      ],
      "metadata": {
        "id": "5EEvaZVF2Zds"
      },
      "execution_count": null,
      "outputs": []
    },
    {
      "cell_type": "code",
      "source": [
        "df.describe()"
      ],
      "metadata": {
        "id": "7jJEjrd92_NJ"
      },
      "execution_count": null,
      "outputs": []
    },
    {
      "cell_type": "code",
      "source": [
        "df.median()"
      ],
      "metadata": {
        "id": "W5v_BUSP3Rcx"
      },
      "execution_count": null,
      "outputs": []
    },
    {
      "cell_type": "code",
      "source": [
        "df.mode(axis='rows')"
      ],
      "metadata": {
        "id": "5Us0Qav63Z0f"
      },
      "execution_count": null,
      "outputs": []
    },
    {
      "cell_type": "code",
      "source": [
        "df=df.drop(columns=['Species'])\n",
        "df=df.drop(columns=['Id'])"
      ],
      "metadata": {
        "id": "fqCqos4LBp2o"
      },
      "execution_count": null,
      "outputs": []
    },
    {
      "cell_type": "code",
      "source": [
        "sb.pairplot(df, hue=\"Species\")"
      ],
      "metadata": {
        "id": "JZSancE54BB9"
      },
      "execution_count": null,
      "outputs": []
    },
    {
      "cell_type": "code",
      "source": [
        "for i in df.columns:\n",
        "    plt.hist(df[i])\n",
        "    plt.show()"
      ],
      "metadata": {
        "id": "HPWlJXSXCYLb"
      },
      "execution_count": null,
      "outputs": []
    },
    {
      "cell_type": "code",
      "source": [
        "for i in df.columns:\n",
        "  for j in  df.columns:\n",
        "    plt.scatter(df[i],df[j])\n",
        "    plt.show()"
      ],
      "metadata": {
        "id": "6L5_hio8A8iT"
      },
      "execution_count": null,
      "outputs": []
    },
    {
      "cell_type": "code",
      "source": [
        "corr = df.corr()\n",
        "sb.heatmap(corr, annot = True)"
      ],
      "metadata": {
        "id": "d5kdYrlr4juS"
      },
      "execution_count": null,
      "outputs": []
    }
  ]
}